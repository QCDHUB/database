{
 "cells": [
  {
   "cell_type": "markdown",
   "metadata": {},
   "source": [
    "# Data Plot\n",
    "## *DY data qT*\n",
    "#### Author: *Alexei Prokudin* \n",
    "#### e-mail: *prokudin@jlab.org*"
   ]
  },
  {
   "cell_type": "markdown",
   "metadata": {},
   "source": [
    "### Imports"
   ]
  },
  {
   "cell_type": "code",
   "execution_count": 1,
   "metadata": {},
   "outputs": [],
   "source": [
    "import pandas as pd\n",
    "import numpy as np\n",
    "import matplotlib.pyplot as plt\n",
    "import os\n",
    "# enable plots in the notebook\n",
    "%matplotlib inline"
   ]
  },
  {
   "cell_type": "markdown",
   "metadata": {},
   "source": [
    "### reading the data"
   ]
  },
  {
   "cell_type": "code",
   "execution_count": 2,
   "metadata": {},
   "outputs": [
    {
     "name": "stdout",
     "output_type": "stream",
     "text": [
      "Current working directory /Users/avp5627/GIT/fitpack2/database/dy_qT\n"
     ]
    }
   ],
   "source": [
    "## Check current dir\n",
    "current = os.getcwd() # get current dir\n",
    "print(\"Current working directory %s\" % current) # check current dir"
   ]
  },
  {
   "cell_type": "code",
   "execution_count": 3,
   "metadata": {},
   "outputs": [
    {
     "name": "stdout",
     "output_type": "stream",
     "text": [
      "Working directory for the data /Users/avp5627/GIT/fitpack2/database/dy_qT/expdata\n"
     ]
    }
   ],
   "source": [
    "## Set working directory\n",
    "path = current+'/expdata/'\n",
    "os.chdir(path) # one dir back\n",
    "# Check \n",
    "newDir = os.getcwd() # get current dir\n",
    "print(\"Working directory for the data %s\" % newDir) # check current dir"
   ]
  },
  {
   "cell_type": "code",
   "execution_count": 5,
   "metadata": {},
   "outputs": [
    {
     "name": "stdout",
     "output_type": "stream",
     "text": [
      "Data files retrieved ['10001.xlsx', '20003.xlsx', '20002.xlsx', '10004.xlsx', '20001.xlsx', '10005.xlsx', '10002.xlsx', '10003.xlsx']\n"
     ]
    }
   ],
   "source": [
    "## Grabing files\n",
    "datafiles=os.listdir('./') # list all files in dir\n",
    "datafiles=[files for files in datafiles if files.endswith('.xlsx') and not files.startswith('~')]\n",
    "print(\"Data files retrieved %s\" % datafiles)"
   ]
  },
  {
   "cell_type": "code",
   "execution_count": 6,
   "metadata": {},
   "outputs": [],
   "source": [
    "data=pd.read_excel('10001.xlsx')"
   ]
  },
  {
   "cell_type": "code",
   "execution_count": 7,
   "metadata": {},
   "outputs": [
    {
     "data": {
      "text/plain": [
       "Index(['RS', 'Q', 'Qmin', 'Qmax', 'y', 'ymin', 'ymax', 'qT', 'qTmin', 'qTmax',\n",
       "       'value', 'stat_u', 'stat_plus', 'stat_minus', '%syst_c', 'FiducialCuts',\n",
       "       'ktCut1[GeV]', 'etaMin', 'etaMax', 'col', 'obs', 'units', 'beam',\n",
       "       'target', 'process'],\n",
       "      dtype='object')"
      ]
     },
     "execution_count": 7,
     "metadata": {},
     "output_type": "execute_result"
    }
   ],
   "source": [
    "data.keys()"
   ]
  },
  {
   "cell_type": "markdown",
   "metadata": {},
   "source": [
    "### Plotting"
   ]
  },
  {
   "cell_type": "code",
   "execution_count": 8,
   "metadata": {},
   "outputs": [],
   "source": [
    "def plot(data):\n",
    "    if \"stat_u\" and \"%syst_c\" in data.keys():\n",
    "        delta = np.sqrt(data.stat_u**2.0+(data[\"%syst_c\"]/100*data.value)**2.0)\n",
    "    if \"tot_u\" in data.keys():   \n",
    "        delta = data.tot_u\n",
    "    plt.errorbar(data.qT,data.value,delta,\n",
    "                 fmt='o',mfc='blue',\n",
    "                 ecolor='blue',capsize=5, label=data.process[1])\n",
    "    plt.legend()\n",
    "    plt.title(\"Data %s\" % data.col[1]) \n",
    "    plt.xlabel(r\"$q_T$ (GeV)\")\n",
    "    plt.ylabel(r\"$\\frac{1}{\\sigma}\\frac{d \\sigma}{dq _T}$ (GeV$^{-1}$)\")\n"
   ]
  },
  {
   "cell_type": "markdown",
   "metadata": {},
   "source": [
    "### Binning data"
   ]
  },
  {
   "cell_type": "code",
   "execution_count": 9,
   "metadata": {},
   "outputs": [
    {
     "data": {
      "image/png": "[encoded data removed]",
      "text/plain": [
       "<Figure size 432x288 with 1 Axes>"
      ]
     },
     "metadata": {
      "needs_background": "light"
     },
     "output_type": "display_data"
    }
   ],
   "source": [
    "plot(data)"
   ]
  },
  {
   "cell_type": "code",
   "execution_count": 10,
   "metadata": {},
   "outputs": [],
   "source": [
    "data_tmd = data.query(\"qT/Q<0.3\")"
   ]
  },
  {
   "cell_type": "code",
   "execution_count": 11,
   "metadata": {},
   "outputs": [
    {
     "data": {
      "image/png": "[encoded data removed]",
      "text/plain": [
       "<Figure size 432x288 with 1 Axes>"
      ]
     },
     "metadata": {
      "needs_background": "light"
     },
     "output_type": "display_data"
    }
   ],
   "source": [
    "plot(data_tmd)"
   ]
  },
  {
   "cell_type": "code",
   "execution_count": null,
   "metadata": {},
   "outputs": [],
   "source": []
  }
 ],
 "metadata": {
  "kernelspec": {
   "display_name": "Python 3",
   "language": "python",
   "name": "python3"
  },
  "language_info": {
   "codemirror_mode": {
    "name": "ipython",
    "version": 3
   },
   "file_extension": ".py",
   "mimetype": "text/x-python",
   "name": "python",
   "nbconvert_exporter": "python",
   "pygments_lexer": "ipython3",
   "version": "3.7.4"
  }
 },
 "nbformat": 4,
 "nbformat_minor": 2
}
